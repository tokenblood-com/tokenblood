{
 "cells": [
  {
   "cell_type": "code",
   "execution_count": 67,
   "metadata": {},
   "outputs": [],
   "source": [
    "from datasets import load_dataset\n",
    "from dotenv import load_dotenv\n",
    "\n",
    "import os\n",
    "\n",
    "load_dotenv()\n",
    "\n",
    "assert \"HF_TOKEN\" in os.environ, \"HF_TOKEN is not set\"\n",
    "\n",
    "ds = load_dataset(\"ai4privacy/open-pii-masking-500k-ai4privacy\")"
   ]
  },
  {
   "cell_type": "code",
   "execution_count": 68,
   "metadata": {},
   "outputs": [
    {
     "data": {
      "text/plain": [
       "DatasetDict({\n",
       "    train: Dataset({\n",
       "        features: ['source_text', 'masked_text', 'privacy_mask', 'split', 'uid', 'language', 'region', 'script', 'mbert_tokens', 'mbert_token_classes'],\n",
       "        num_rows: 464150\n",
       "    })\n",
       "    validation: Dataset({\n",
       "        features: ['source_text', 'masked_text', 'privacy_mask', 'split', 'uid', 'language', 'region', 'script', 'mbert_tokens', 'mbert_token_classes'],\n",
       "        num_rows: 116077\n",
       "    })\n",
       "})"
      ]
     },
     "execution_count": 68,
     "metadata": {},
     "output_type": "execute_result"
    }
   ],
   "source": [
    "ds"
   ]
  },
  {
   "cell_type": "code",
   "execution_count": 69,
   "metadata": {},
   "outputs": [
    {
     "data": {
      "text/plain": [
       "{'source_text': '20:10:26 Venanzius Höttermann Revés యొక్క వివాహం July/95 నాడు జరిగింది, Tadaలో Faizabad Road వద్ద.',\n",
       " 'masked_text': '[TIME_1] [GIVENNAME_1] [SURNAME_1] యొక్క వివాహం [DATE_1] నాడు జరిగింది, [CITY_1]లో [STREET_1] వద్ద.',\n",
       " 'privacy_mask': [{'label': 'TIME',\n",
       "   'start': 0,\n",
       "   'end': 8,\n",
       "   'value': '20:10:26',\n",
       "   'label_index': 1},\n",
       "  {'label': 'GIVENNAME',\n",
       "   'start': 9,\n",
       "   'end': 18,\n",
       "   'value': 'Venanzius',\n",
       "   'label_index': 1},\n",
       "  {'label': 'SURNAME',\n",
       "   'start': 19,\n",
       "   'end': 35,\n",
       "   'value': 'Höttermann Revés',\n",
       "   'label_index': 1},\n",
       "  {'label': 'DATE',\n",
       "   'start': 49,\n",
       "   'end': 56,\n",
       "   'value': 'July/95',\n",
       "   'label_index': 1},\n",
       "  {'label': 'CITY', 'start': 72, 'end': 76, 'value': 'Tada', 'label_index': 1},\n",
       "  {'label': 'STREET',\n",
       "   'start': 79,\n",
       "   'end': 92,\n",
       "   'value': 'Faizabad Road',\n",
       "   'label_index': 1}],\n",
       " 'split': 'train',\n",
       " 'uid': 5387382,\n",
       " 'language': 'te',\n",
       " 'region': 'IN',\n",
       " 'script': 'Telu',\n",
       " 'mbert_tokens': ['20',\n",
       "  ':',\n",
       "  '10',\n",
       "  ':',\n",
       "  '26',\n",
       "  'Ve',\n",
       "  '##nan',\n",
       "  '##ziu',\n",
       "  '##s',\n",
       "  'H',\n",
       "  '##ötter',\n",
       "  '##mann',\n",
       "  'Rev',\n",
       "  '##és',\n",
       "  'యొక్క',\n",
       "  'వి',\n",
       "  '##వ',\n",
       "  '##ా',\n",
       "  '##హం',\n",
       "  'July',\n",
       "  '/',\n",
       "  '95',\n",
       "  'న',\n",
       "  '##ాడు',\n",
       "  'జరిగింది',\n",
       "  ',',\n",
       "  'Tada',\n",
       "  '##లో',\n",
       "  'Fa',\n",
       "  '##iza',\n",
       "  '##bad',\n",
       "  'Road',\n",
       "  'వద్ద',\n",
       "  '.'],\n",
       " 'mbert_token_classes': ['B-TIME',\n",
       "  'I-TIME',\n",
       "  'I-TIME',\n",
       "  'I-TIME',\n",
       "  'I-TIME',\n",
       "  'B-GIVENNAME',\n",
       "  'I-GIVENNAME',\n",
       "  'I-GIVENNAME',\n",
       "  'I-GIVENNAME',\n",
       "  'B-SURNAME',\n",
       "  'I-SURNAME',\n",
       "  'I-SURNAME',\n",
       "  'I-SURNAME',\n",
       "  'I-SURNAME',\n",
       "  'O',\n",
       "  'O',\n",
       "  'O',\n",
       "  'O',\n",
       "  'O',\n",
       "  'B-DATE',\n",
       "  'I-DATE',\n",
       "  'I-DATE',\n",
       "  'O',\n",
       "  'O',\n",
       "  'O',\n",
       "  'O',\n",
       "  'B-CITY',\n",
       "  'O',\n",
       "  'B-STREET',\n",
       "  'I-STREET',\n",
       "  'I-STREET',\n",
       "  'I-STREET',\n",
       "  'O',\n",
       "  'O']}"
      ]
     },
     "execution_count": 69,
     "metadata": {},
     "output_type": "execute_result"
    }
   ],
   "source": [
    "ds[\"train\"][0]"
   ]
  },
  {
   "cell_type": "code",
   "execution_count": 70,
   "metadata": {},
   "outputs": [
    {
     "data": {
      "text/plain": [
       "DatasetDict({\n",
       "    train: Dataset({\n",
       "        features: ['source_text', 'masked_text', 'privacy_mask', 'split', 'uid', 'language', 'region', 'script'],\n",
       "        num_rows: 120533\n",
       "    })\n",
       "    validation: Dataset({\n",
       "        features: ['source_text', 'masked_text', 'privacy_mask', 'split', 'uid', 'language', 'region', 'script'],\n",
       "        num_rows: 30160\n",
       "    })\n",
       "})"
      ]
     },
     "execution_count": 70,
     "metadata": {},
     "output_type": "execute_result"
    }
   ],
   "source": [
    "ds = ds.filter(lambda x: x[\"language\"] == \"en\")\n",
    "ds = ds.remove_columns([\"mbert_tokens\", \"mbert_token_classes\"])\n",
    "\n",
    "ds"
   ]
  },
  {
   "cell_type": "code",
   "execution_count": 71,
   "metadata": {},
   "outputs": [
    {
     "data": {
      "text/plain": [
       "{'source_text': 'For verification purposes, please provide a copy of your 757861235 and LIEVE.752280.L9.175.',\n",
       " 'masked_text': 'For verification purposes, please provide a copy of your [PASSPORTNUM_1] and [DRIVERLICENSENUM_1].',\n",
       " 'privacy_mask': [{'label': 'PASSPORTNUM',\n",
       "   'start': 57,\n",
       "   'end': 66,\n",
       "   'value': '757861235',\n",
       "   'label_index': 1},\n",
       "  {'label': 'DRIVERLICENSENUM',\n",
       "   'start': 71,\n",
       "   'end': 90,\n",
       "   'value': 'LIEVE.752280.L9.175',\n",
       "   'label_index': 1}],\n",
       " 'split': 'train',\n",
       " 'uid': 5956358,\n",
       " 'language': 'en',\n",
       " 'region': 'GB',\n",
       " 'script': 'Latn'}"
      ]
     },
     "execution_count": 71,
     "metadata": {},
     "output_type": "execute_result"
    }
   ],
   "source": [
    "ds[\"train\"][2000]"
   ]
  },
  {
   "cell_type": "code",
   "execution_count": 72,
   "metadata": {},
   "outputs": [],
   "source": [
    "# SURNAME, GIVENNAME"
   ]
  },
  {
   "cell_type": "code",
   "execution_count": 73,
   "metadata": {},
   "outputs": [
    {
     "data": {
      "text/plain": [
       "DatasetDict({\n",
       "    train: Dataset({\n",
       "        features: ['source_text', 'masked_text', 'privacy_mask', 'split', 'uid', 'language', 'region', 'script'],\n",
       "        num_rows: 85753\n",
       "    })\n",
       "    validation: Dataset({\n",
       "        features: ['source_text', 'masked_text', 'privacy_mask', 'split', 'uid', 'language', 'region', 'script'],\n",
       "        num_rows: 21412\n",
       "    })\n",
       "})"
      ]
     },
     "execution_count": 73,
     "metadata": {},
     "output_type": "execute_result"
    }
   ],
   "source": [
    "ds = ds.filter(lambda item: \"SURNAME\" in item[\"masked_text\"] or \"GIVENNAME\" in item[\"masked_text\"])\n",
    "\n",
    "ds"
   ]
  },
  {
   "cell_type": "code",
   "execution_count": 74,
   "metadata": {},
   "outputs": [
    {
     "name": "stdout",
     "output_type": "stream",
     "text": [
      "Create new entry in family register for Danino Minarik, born July/62.\n",
      "Create new entry in family register for [GIVENNAME_1] [SURNAME_1], born [DATE_1].\n",
      "\n",
      "Prarthana: It's at 341, Chhotaudepur Chandpur Road. Don't forget to bring your ZDVHGS5654.\n",
      "[GIVENNAME_1]: It's at [BUILDINGNUM_1], [STREET_1]. Don't forget to bring your [IDCARDNUM_1].\n",
      "\n",
      "Total Costs amount to $299 per artisan for inclusion in the Weaverville Roadside anthology booklet according to the organizer Soe Angy\n",
      "Total Costs amount to $299 per artisan for inclusion in the Weaverville Roadside anthology booklet according to the organizer [GIVENNAME_1]\n",
      "\n",
      "The survey response period for Ireneo's tribute book is now closed. Thank you to everyone who participated.\n",
      "The survey response period for [GIVENNAME_1]'s tribute book is now closed. Thank you to everyone who participated.\n",
      "\n",
      "Jitrada: I think we should all share our credit card numbers to show our commitment to the community. 6763341874058025274\n",
      "[GIVENNAME_1]: I think we should all share our credit card numbers to show our commitment to the community. [CREDITCARDNUMBER_1]\n",
      "\n",
      "1:58 Kalan Dugniolle Mohamud: 'What kind of map are you looking to create? A map of local businesses or a map of parks and trails?'\n",
      "[TIME_1] [GIVENNAME_1] [SURNAME_1]: 'What kind of map are you looking to create? A map of local businesses or a map of parks and trails?'\n",
      "\n",
      "Verily, my dear Sejbit Diangana Thusakaran, I do love to journal of the human condition, including the Male experiences of this fine world.\n",
      "Verily, my dear [GIVENNAME_1] [SURNAME_1], I do love to journal of the human condition, including the [SEX_1] experiences of this fine world.\n",
      "\n",
      "Assignment for Shefket: Research and gather examples of coastal-themed yachts, specifically from San Jose.\n",
      "Assignment for [GIVENNAME_1]: Research and gather examples of coastal-themed yachts, specifically from [CITY_1].\n",
      "\n",
      "6:09 Alper Sofoklis: 'Can you send me your ABDEL-770013-AD-510 so I can verify it?';\n",
      "[TIME_1] [GIVENNAME_1]: 'Can you send me your [DRIVERLICENSENUM_1] so I can verify it?';\n",
      "\n",
      "Adelheide has been documenting their self-discovery journey in a diary, SKBC@tutanota.com.\n",
      "[GIVENNAME_1] has been documenting their self-discovery journey in a diary, [EMAIL_1].\n",
      "\n",
      "Andreea-Florentina would like to know more about the Guelph voting requirements and how to register for the upcoming election, with 8YBRX1RB96\n",
      "[GIVENNAME_1] would like to know more about the [CITY_1] voting requirements and how to register for the upcoming election, with [IDCARDNUM_1]\n",
      "\n",
      "Xiaonan would love to create the ultimate ironing playlist with Tye\n",
      "[GIVENNAME_2] would love to create the ultimate ironing playlist with [GIVENNAME_1]\n",
      "\n",
      "Dear Dianelys Caliguri, thank you for participating in our urban exploration project. Your unique walking route log has been assigned the ID 2343749296.\n",
      "Dear [GIVENNAME_1] [SURNAME_1], thank you for participating in our urban exploration project. Your unique walking route log has been assigned the ID [IDCARDNUM_1].\n",
      "\n",
      "Welcome, Cristoph! Your new account has been activated. To verify, please click on the link we've sent to your 1990C@tutanota.com.\n",
      "Welcome, [GIVENNAME_1]! Your new account has been activated. To verify, please click on the link we've sent to your [EMAIL_1].\n",
      "\n",
      "Task for today: meet Nedzip at Jategaon Road 3030 to buy a vintage item.\n",
      "Task for today: meet [GIVENNAME_1] at [STREET_1] [BUILDINGNUM_1] to buy a vintage item.\n",
      "\n",
      "Please confirm the attendance of Allah Persio Braham at the Antique Firearm Handling Workshop on 5th January 1978.\n",
      "Please confirm the attendance of [GIVENNAME_1] [SURNAME_1] at the Antique Firearm Handling Workshop on [DATE_1].\n",
      "\n",
      "Are you satisfied with the size of your current mattress? Yes/No. Thank you for your feedback, Haby.\n",
      "Are you satisfied with the size of your current mattress? Yes/No. Thank you for your feedback, [GIVENNAME_1].\n",
      "\n",
      "Please provide your Miss and Rejin for registration.\n",
      "Please provide your [TITLE_1] and [GIVENNAME_1] for registration.\n",
      "\n",
      "ID Badge Request for Erminda\n",
      "ID Badge Request for [GIVENNAME_1]\n",
      "\n",
      "12:41 Meljihate Duygu Cetkovic: Don't forget to bring your 381515076 for site registration.\n",
      "[TIME_1] [GIVENNAME_1] [SURNAME_1]: Don't forget to bring your [IDCARDNUM_1] for site registration.\n",
      "\n"
     ]
    }
   ],
   "source": [
    "import random\n",
    "\n",
    "\n",
    "for ii in random.sample(range(len(ds[\"train\"])), 20):\n",
    "    print(ds[\"train\"][ii][\"source_text\"])\n",
    "    print(ds[\"train\"][ii][\"masked_text\"])\n",
    "    print()"
   ]
  },
  {
   "cell_type": "code",
   "execution_count": 75,
   "metadata": {},
   "outputs": [
    {
     "data": {
      "text/plain": [
       "DatasetDict({\n",
       "    train: Dataset({\n",
       "        features: ['source_text', 'masked_text', 'privacy_mask', 'split', 'uid', 'language', 'region', 'script'],\n",
       "        num_rows: 13312\n",
       "    })\n",
       "    validation: Dataset({\n",
       "        features: ['source_text', 'masked_text', 'privacy_mask', 'split', 'uid', 'language', 'region', 'script'],\n",
       "        num_rows: 3311\n",
       "    })\n",
       "})"
      ]
     },
     "execution_count": 75,
     "metadata": {},
     "output_type": "execute_result"
    }
   ],
   "source": [
    "ds_with_two_persons = ds.filter(lambda item: \"SURNAME_2\" in item[\"masked_text\"] or \"GIVENNAME_2\" in item[\"masked_text\"])\n",
    "\n",
    "ds_with_two_persons"
   ]
  },
  {
   "cell_type": "code",
   "execution_count": 76,
   "metadata": {},
   "outputs": [
    {
     "data": {
      "application/vnd.jupyter.widget-view+json": {
       "model_id": "ce9c7d05952648989df66a8572c3a796",
       "version_major": 2,
       "version_minor": 0
      },
      "text/plain": [
       "Filter:   0%|          | 0/85753 [00:00<?, ? examples/s]"
      ]
     },
     "metadata": {},
     "output_type": "display_data"
    },
    {
     "data": {
      "application/vnd.jupyter.widget-view+json": {
       "model_id": "41c22723616d46dbb4039e0f5b8e2a22",
       "version_major": 2,
       "version_minor": 0
      },
      "text/plain": [
       "Filter:   0%|          | 0/21412 [00:00<?, ? examples/s]"
      ]
     },
     "metadata": {},
     "output_type": "display_data"
    },
    {
     "data": {
      "text/plain": [
       "DatasetDict({\n",
       "    train: Dataset({\n",
       "        features: ['source_text', 'masked_text', 'privacy_mask', 'split', 'uid', 'language', 'region', 'script'],\n",
       "        num_rows: 1634\n",
       "    })\n",
       "    validation: Dataset({\n",
       "        features: ['source_text', 'masked_text', 'privacy_mask', 'split', 'uid', 'language', 'region', 'script'],\n",
       "        num_rows: 416\n",
       "    })\n",
       "})"
      ]
     },
     "execution_count": 76,
     "metadata": {},
     "output_type": "execute_result"
    }
   ],
   "source": [
    "ds_with_three_persons = ds.filter(\n",
    "    lambda item: \"SURNAME_3\" in item[\"masked_text\"] or \"GIVENNAME_3\" in item[\"masked_text\"]\n",
    ")\n",
    "\n",
    "ds_with_three_persons"
   ]
  },
  {
   "cell_type": "code",
   "execution_count": 77,
   "metadata": {},
   "outputs": [
    {
     "data": {
      "text/plain": [
       "{'source_text': \"6:41:30 PM Yurii: Rüben got anxious when Tianze revealed their new phone number. Now everyone knows it's 0170 240-8307\",\n",
       " 'masked_text': \"[TIME_1] [GIVENNAME_3]: [GIVENNAME_2] got anxious when [GIVENNAME_1] revealed their new phone number. Now everyone knows it's [TELEPHONENUM_1]\",\n",
       " 'privacy_mask': [{'label': 'TIME',\n",
       "   'start': 0,\n",
       "   'end': 10,\n",
       "   'value': '6:41:30 PM',\n",
       "   'label_index': 1},\n",
       "  {'label': 'GIVENNAME',\n",
       "   'start': 11,\n",
       "   'end': 16,\n",
       "   'value': 'Yurii',\n",
       "   'label_index': 3},\n",
       "  {'label': 'GIVENNAME',\n",
       "   'start': 18,\n",
       "   'end': 23,\n",
       "   'value': 'Rüben',\n",
       "   'label_index': 2},\n",
       "  {'label': 'GIVENNAME',\n",
       "   'start': 41,\n",
       "   'end': 47,\n",
       "   'value': 'Tianze',\n",
       "   'label_index': 1},\n",
       "  {'label': 'TELEPHONENUM',\n",
       "   'start': 105,\n",
       "   'end': 118,\n",
       "   'value': '0170 240-8307',\n",
       "   'label_index': 1}],\n",
       " 'split': 'train',\n",
       " 'uid': 5633848,\n",
       " 'language': 'en',\n",
       " 'region': 'US',\n",
       " 'script': 'Latn'}"
      ]
     },
     "execution_count": 77,
     "metadata": {},
     "output_type": "execute_result"
    }
   ],
   "source": [
    "ds_with_three_persons[\"train\"][130]"
   ]
  },
  {
   "cell_type": "code",
   "execution_count": 78,
   "metadata": {},
   "outputs": [
    {
     "data": {
      "text/plain": [
       "datasets.arrow_dataset.Dataset"
      ]
     },
     "execution_count": 78,
     "metadata": {},
     "output_type": "execute_result"
    }
   ],
   "source": [
    "type(ds_with_three_persons[\"validation\"])"
   ]
  },
  {
   "cell_type": "code",
   "execution_count": 79,
   "metadata": {},
   "outputs": [
    {
     "name": "stdout",
     "output_type": "stream",
     "text": [
      "Length of train_df_with_three_persons: 416\n"
     ]
    },
    {
     "data": {
      "text/html": [
       "<div>\n",
       "<style scoped>\n",
       "    .dataframe tbody tr th:only-of-type {\n",
       "        vertical-align: middle;\n",
       "    }\n",
       "\n",
       "    .dataframe tbody tr th {\n",
       "        vertical-align: top;\n",
       "    }\n",
       "\n",
       "    .dataframe thead th {\n",
       "        text-align: right;\n",
       "    }\n",
       "</style>\n",
       "<table border=\"1\" class=\"dataframe\">\n",
       "  <thead>\n",
       "    <tr style=\"text-align: right;\">\n",
       "      <th></th>\n",
       "      <th>text</th>\n",
       "      <th>masked_text</th>\n",
       "      <th>names</th>\n",
       "    </tr>\n",
       "  </thead>\n",
       "  <tbody>\n",
       "    <tr>\n",
       "      <th>0</th>\n",
       "      <td>The PalindromesGroup chat includes Salomée, Qé...</td>\n",
       "      <td>The PalindromesGroup chat includes [GIVENNAME_...</td>\n",
       "      <td>[Salomée, Qéndresa Adrina, Vithursan]</td>\n",
       "    </tr>\n",
       "    <tr>\n",
       "      <th>1</th>\n",
       "      <td>Narcis and Aiza visited the Princes Risborough...</td>\n",
       "      <td>[GIVENNAME_3] and [GIVENNAME_2] visited the [C...</td>\n",
       "      <td>[Narcis, Aiza, Faverjon Patrick-Marc]</td>\n",
       "    </tr>\n",
       "    <tr>\n",
       "      <th>2</th>\n",
       "      <td>07:51:08 Menelaos Iouri to Chayanne: 'Hey, I n...</td>\n",
       "      <td>[TIME_1] [GIVENNAME_3] to [GIVENNAME_2]: 'Hey,...</td>\n",
       "      <td>[Menelaos Iouri, Chayanne, Sivalogini]</td>\n",
       "    </tr>\n",
       "    <tr>\n",
       "      <th>3</th>\n",
       "      <td>The following people are attending the Stourbr...</td>\n",
       "      <td>The following people are attending the [CITY_1...</td>\n",
       "      <td>[Norell, Visanu, Tancev Eduard-Ionut]</td>\n",
       "    </tr>\n",
       "    <tr>\n",
       "      <th>4</th>\n",
       "      <td>Thevanesan: Hey Saliba! I need your help in dr...</td>\n",
       "      <td>[GIVENNAME_3]: Hey [GIVENNAME_2]! I need your ...</td>\n",
       "      <td>[Thevanesan, Saliba, Dionisa Magbule]</td>\n",
       "    </tr>\n",
       "  </tbody>\n",
       "</table>\n",
       "</div>"
      ],
      "text/plain": [
       "                                                text  \\\n",
       "0  The PalindromesGroup chat includes Salomée, Qé...   \n",
       "1  Narcis and Aiza visited the Princes Risborough...   \n",
       "2  07:51:08 Menelaos Iouri to Chayanne: 'Hey, I n...   \n",
       "3  The following people are attending the Stourbr...   \n",
       "4  Thevanesan: Hey Saliba! I need your help in dr...   \n",
       "\n",
       "                                         masked_text  \\\n",
       "0  The PalindromesGroup chat includes [GIVENNAME_...   \n",
       "1  [GIVENNAME_3] and [GIVENNAME_2] visited the [C...   \n",
       "2  [TIME_1] [GIVENNAME_3] to [GIVENNAME_2]: 'Hey,...   \n",
       "3  The following people are attending the [CITY_1...   \n",
       "4  [GIVENNAME_3]: Hey [GIVENNAME_2]! I need your ...   \n",
       "\n",
       "                                    names  \n",
       "0   [Salomée, Qéndresa Adrina, Vithursan]  \n",
       "1   [Narcis, Aiza, Faverjon Patrick-Marc]  \n",
       "2  [Menelaos Iouri, Chayanne, Sivalogini]  \n",
       "3   [Norell, Visanu, Tancev Eduard-Ionut]  \n",
       "4   [Thevanesan, Saliba, Dionisa Magbule]  "
      ]
     },
     "execution_count": 79,
     "metadata": {},
     "output_type": "execute_result"
    }
   ],
   "source": [
    "from datasets import Dataset\n",
    "import pandas as pd\n",
    "\n",
    "\n",
    "def prepare_dataset(data: Dataset) -> pd.DataFrame:\n",
    "    dataset = []\n",
    "\n",
    "    for item in data:\n",
    "        text = item[\"source_text\"]\n",
    "\n",
    "        privacy_mask = item[\"privacy_mask\"]\n",
    "\n",
    "        names = dict()\n",
    "\n",
    "        for mask_item in privacy_mask:\n",
    "            label_class = mask_item[\"label\"]  # SURNAME or GIVENNAME\n",
    "            if label_class not in [\"SURNAME\", \"GIVENNAME\"]:\n",
    "                continue\n",
    "\n",
    "            label_index = mask_item[\"label_index\"]\n",
    "\n",
    "            if label_index not in names:\n",
    "                names[label_index] = {\"SURNAME\": None, \"GIVENNAME\": None}\n",
    "\n",
    "            names[label_index][label_class] = mask_item[\"value\"]\n",
    "\n",
    "        names_list = []\n",
    "        for label_index, label_classes in names.items():\n",
    "            full_name = \"\"\n",
    "\n",
    "            surname = label_classes[\"SURNAME\"]\n",
    "            given_name = label_classes[\"GIVENNAME\"]\n",
    "\n",
    "            if surname:\n",
    "                full_name += surname\n",
    "\n",
    "            if given_name:\n",
    "                if full_name:\n",
    "                    full_name += \" \"\n",
    "                full_name += given_name\n",
    "\n",
    "            names_list.append(full_name)\n",
    "\n",
    "        dataset.append({\"text\": text, \"masked_text\": item[\"masked_text\"], \"names\": names_list})\n",
    "\n",
    "    return pd.DataFrame(dataset)\n",
    "\n",
    "\n",
    "train_df_with_three_persons = prepare_dataset(ds_with_three_persons[\"validation\"])\n",
    "\n",
    "print(f\"Length of train_df_with_three_persons: {len(train_df_with_three_persons)}\")\n",
    "train_df_with_three_persons.head()"
   ]
  },
  {
   "cell_type": "code",
   "execution_count": 80,
   "metadata": {},
   "outputs": [
    {
     "name": "stdout",
     "output_type": "stream",
     "text": [
      "Saved dataset to data/ai4privacy-many-persons-validation.csv\n"
     ]
    }
   ],
   "source": [
    "from pyrootutils import find_root\n",
    "\n",
    "output_data_path = find_root() / \"data\" / \"ai4privacy-many-persons-validation.csv\"\n",
    "train_df_with_three_persons.to_csv(output_data_path, index=False)\n",
    "\n",
    "print(f\"Saved dataset to {output_data_path.relative_to(find_root())}\")"
   ]
  },
  {
   "cell_type": "code",
   "execution_count": 86,
   "metadata": {},
   "outputs": [
    {
     "name": "stdout",
     "output_type": "stream",
     "text": [
      "The participant list for the Scotland Yard workshop includes Sathyanarayanan Jawid, Vergil, and Andryn.\n",
      "The participant list for the Scotland Yard workshop includes [GIVENNAME_3], [GIVENNAME_2], and [GIVENNAME_1].\n"
     ]
    }
   ],
   "source": [
    "index = 97\n",
    "print(train_df_with_three_persons.iloc[index].text)\n",
    "print(train_df_with_three_persons.iloc[index].masked_text)"
   ]
  },
  {
   "cell_type": "code",
   "execution_count": null,
   "metadata": {},
   "outputs": [],
   "source": []
  }
 ],
 "metadata": {
  "kernelspec": {
   "display_name": ".venv",
   "language": "python",
   "name": "python3"
  },
  "language_info": {
   "codemirror_mode": {
    "name": "ipython",
    "version": 3
   },
   "file_extension": ".py",
   "mimetype": "text/x-python",
   "name": "python",
   "nbconvert_exporter": "python",
   "pygments_lexer": "ipython3",
   "version": "3.13.2"
  }
 },
 "nbformat": 4,
 "nbformat_minor": 2
}
