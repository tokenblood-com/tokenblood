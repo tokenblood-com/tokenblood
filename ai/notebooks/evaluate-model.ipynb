{
 "cells": [
  {
   "cell_type": "code",
   "execution_count": 1,
   "metadata": {},
   "outputs": [],
   "source": [
    "%load_ext autoreload\n",
    "\n",
    "%autoreload 2 "
   ]
  },
  {
   "cell_type": "code",
   "execution_count": 2,
   "metadata": {},
   "outputs": [],
   "source": [
    "from pyrootutils import find_root, setup_root\n",
    "\n",
    "\n",
    "_ = setup_root(find_root())"
   ]
  },
  {
   "cell_type": "code",
   "execution_count": 3,
   "metadata": {},
   "outputs": [
    {
     "data": {
      "text/html": [
       "<div>\n",
       "<style scoped>\n",
       "    .dataframe tbody tr th:only-of-type {\n",
       "        vertical-align: middle;\n",
       "    }\n",
       "\n",
       "    .dataframe tbody tr th {\n",
       "        vertical-align: top;\n",
       "    }\n",
       "\n",
       "    .dataframe thead th {\n",
       "        text-align: right;\n",
       "    }\n",
       "</style>\n",
       "<table border=\"1\" class=\"dataframe\">\n",
       "  <thead>\n",
       "    <tr style=\"text-align: right;\">\n",
       "      <th></th>\n",
       "      <th>text</th>\n",
       "      <th>names</th>\n",
       "    </tr>\n",
       "  </thead>\n",
       "  <tbody>\n",
       "    <tr>\n",
       "      <th>0</th>\n",
       "      <td>The PalindromesGroup chat includes Salomée, Qé...</td>\n",
       "      <td>[Salomée, Qéndresa Adrina, Vithursan]</td>\n",
       "    </tr>\n",
       "    <tr>\n",
       "      <th>1</th>\n",
       "      <td>Narcis and Aiza visited the Princes Risborough...</td>\n",
       "      <td>[Narcis, Aiza, Faverjon Patrick-Marc]</td>\n",
       "    </tr>\n",
       "    <tr>\n",
       "      <th>2</th>\n",
       "      <td>07:51:08 Menelaos Iouri to Chayanne: 'Hey, I n...</td>\n",
       "      <td>[Menelaos Iouri, Chayanne, Sivalogini]</td>\n",
       "    </tr>\n",
       "    <tr>\n",
       "      <th>3</th>\n",
       "      <td>The following people are attending the Stourbr...</td>\n",
       "      <td>[Norell, Visanu, Tancev Eduard-Ionut]</td>\n",
       "    </tr>\n",
       "    <tr>\n",
       "      <th>4</th>\n",
       "      <td>Thevanesan: Hey Saliba! I need your help in dr...</td>\n",
       "      <td>[Thevanesan, Saliba, Magbule Dionisa]</td>\n",
       "    </tr>\n",
       "  </tbody>\n",
       "</table>\n",
       "</div>"
      ],
      "text/plain": [
       "                                                text  \\\n",
       "0  The PalindromesGroup chat includes Salomée, Qé...   \n",
       "1  Narcis and Aiza visited the Princes Risborough...   \n",
       "2  07:51:08 Menelaos Iouri to Chayanne: 'Hey, I n...   \n",
       "3  The following people are attending the Stourbr...   \n",
       "4  Thevanesan: Hey Saliba! I need your help in dr...   \n",
       "\n",
       "                                    names  \n",
       "0   [Salomée, Qéndresa Adrina, Vithursan]  \n",
       "1   [Narcis, Aiza, Faverjon Patrick-Marc]  \n",
       "2  [Menelaos Iouri, Chayanne, Sivalogini]  \n",
       "3   [Norell, Visanu, Tancev Eduard-Ionut]  \n",
       "4   [Thevanesan, Saliba, Magbule Dionisa]  "
      ]
     },
     "execution_count": 3,
     "metadata": {},
     "output_type": "execute_result"
    }
   ],
   "source": [
    "import pandas as pd\n",
    "from pyrootutils import find_root\n",
    "\n",
    "df_path = find_root().parent / \"data\" / \"personal_info_extraction\" / \"ai4privacy\" / \"v1\" / \"eval.csv\"\n",
    "\n",
    "df = pd.read_csv(df_path, converters={\"names\": eval}).iloc[:5]\n",
    "df"
   ]
  },
  {
   "cell_type": "code",
   "execution_count": 6,
   "metadata": {},
   "outputs": [
    {
     "name": "stderr",
     "output_type": "stream",
     "text": [
      "\u001b[32m2025-05-13 16:07:15.088\u001b[0m | \u001b[1mINFO    \u001b[0m | \u001b[36msrc.data\u001b[0m:\u001b[36mload_data_for_personal_info_extraction\u001b[0m:\u001b[36m52\u001b[0m - \u001b[1mLoaded dataset from /Users/shamilarslanov/Projects/MaximLLMArena/tokenblood/data/personal_info_extraction/ai4privacy/v1/eval.csv\u001b[0m\n"
     ]
    },
    {
     "name": "stderr",
     "output_type": "stream",
     "text": [
      "\u001b[32m2025-05-13 16:07:15.091\u001b[0m | \u001b[1mINFO    \u001b[0m | \u001b[36msrc.data\u001b[0m:\u001b[36mload_data\u001b[0m:\u001b[36m30\u001b[0m - \u001b[1mTask: personal_info_extraction_debug, dataset size: 3 rows\u001b[0m\n"
     ]
    },
    {
     "name": "stdout",
     "output_type": "stream",
     "text": [
      "Index: 0\n",
      "- prediction: ['Salomée', 'Qéndresa Adrina', 'Vithursan']\n",
      "- gt_name: ['Salomée', 'Qéndresa Adrina', 'Vithursan']\n",
      "\n",
      "Index: 1\n",
      "- prediction: ['Faverjon', 'Patrick-Marc']\n",
      "- gt_name: ['Narcis', 'Aiza', 'Faverjon Patrick-Marc']\n",
      "\n",
      "Index: 2\n",
      "- prediction: ['Iouri Menelaos', 'Sivalogini']\n",
      "- gt_name: ['Menelaos Iouri', 'Chayanne', 'Sivalogini']\n",
      "\n"
     ]
    },
    {
     "data": {
      "text/plain": [
       "EvaluationResult(accuracy_score=0.4444444444444444, true_positives=4, false_positives=3, false_negatives=2, dataset_size=3)"
      ]
     },
     "execution_count": 6,
     "metadata": {},
     "output_type": "execute_result"
    }
   ],
   "source": [
    "from src.evaluate import evaluate\n",
    "from dotenv import load_dotenv\n",
    "\n",
    "assert load_dotenv()\n",
    "\n",
    "example_prompt = \"\"\"Your task is to extract names from a document. Document can contain one or more names. Output names in the following order: SURNAME (if exists), GIVENNAME (if exists). If document contains multiple names, output all of them with the comma. If document contains no names, output an empty string.\n",
    "\n",
    "Here is text of a document:\n",
    "\n",
    "{{document}}\n",
    "\"\"\"\n",
    "\n",
    "\n",
    "evaluate(task=\"personal_info_extraction_debug\", prompt=example_prompt, debug=True)"
   ]
  },
  {
   "cell_type": "code",
   "execution_count": null,
   "metadata": {},
   "outputs": [],
   "source": []
  },
  {
   "cell_type": "code",
   "execution_count": null,
   "metadata": {},
   "outputs": [],
   "source": []
  }
 ],
 "metadata": {
  "kernelspec": {
   "display_name": ".venv",
   "language": "python",
   "name": "python3"
  },
  "language_info": {
   "codemirror_mode": {
    "name": "ipython",
    "version": 3
   },
   "file_extension": ".py",
   "mimetype": "text/x-python",
   "name": "python",
   "nbconvert_exporter": "python",
   "pygments_lexer": "ipython3",
   "version": "3.13.2"
  }
 },
 "nbformat": 4,
 "nbformat_minor": 2
}
